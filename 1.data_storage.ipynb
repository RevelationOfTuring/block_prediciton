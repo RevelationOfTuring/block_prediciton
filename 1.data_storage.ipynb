{
 "cells": [
  {
   "cell_type": "code",
   "execution_count": 1,
   "metadata": {},
   "outputs": [],
   "source": [
    "import pandas as pd"
   ]
  },
  {
   "cell_type": "code",
   "execution_count": 2,
   "metadata": {},
   "outputs": [],
   "source": [
    "# only run once\n",
    "data=pd.read_excel('data/5691927-5794251.xlsx')"
   ]
  },
  {
   "cell_type": "code",
   "execution_count": 4,
   "metadata": {},
   "outputs": [
    {
     "data": {
      "text/html": [
       "<div>\n",
       "<style scoped>\n",
       "    .dataframe tbody tr th:only-of-type {\n",
       "        vertical-align: middle;\n",
       "    }\n",
       "\n",
       "    .dataframe tbody tr th {\n",
       "        vertical-align: top;\n",
       "    }\n",
       "\n",
       "    .dataframe thead th {\n",
       "        text-align: right;\n",
       "    }\n",
       "</style>\n",
       "<table border=\"1\" class=\"dataframe\">\n",
       "  <thead>\n",
       "    <tr style=\"text-align: right;\">\n",
       "      <th></th>\n",
       "      <th>gas_limit</th>\n",
       "      <th>guessed_miner</th>\n",
       "      <th>blocktime</th>\n",
       "      <th>gas_used</th>\n",
       "      <th>txnum</th>\n",
       "      <th>height</th>\n",
       "      <th>区块耗时</th>\n",
       "      <th>elapsed-time</th>\n",
       "      <th>gas used \\n是否超过3千万\\n1为超过，-1不超过</th>\n",
       "    </tr>\n",
       "  </thead>\n",
       "  <tbody>\n",
       "    <tr>\n",
       "      <th>0</th>\n",
       "      <td>2282861676</td>\n",
       "      <td>exvaloper1s6nfs7mlj7ewsskkrmekqhpq2w234fcz5uq4m5</td>\n",
       "      <td>1632621639000</td>\n",
       "      <td>21158877</td>\n",
       "      <td>300</td>\n",
       "      <td>5794080</td>\n",
       "      <td>-89267000</td>\n",
       "      <td>9000</td>\n",
       "      <td>-1.0</td>\n",
       "    </tr>\n",
       "    <tr>\n",
       "      <th>1</th>\n",
       "      <td>1896990000</td>\n",
       "      <td>exvaloper19wln93k3faq7vkqzlc9gljr3ey5fljt93jfxsy</td>\n",
       "      <td>1632532372000</td>\n",
       "      <td>17304181</td>\n",
       "      <td>350</td>\n",
       "      <td>5774007</td>\n",
       "      <td>89264000</td>\n",
       "      <td>4000</td>\n",
       "      <td>-1.0</td>\n",
       "    </tr>\n",
       "    <tr>\n",
       "      <th>2</th>\n",
       "      <td>1896880239</td>\n",
       "      <td>exvaloper1ygcvtcqxl82xvzrq25dymam434k3nnc8kwvrkm</td>\n",
       "      <td>1632621636000</td>\n",
       "      <td>11429291</td>\n",
       "      <td>200</td>\n",
       "      <td>5794079</td>\n",
       "      <td>17000</td>\n",
       "      <td>3000</td>\n",
       "      <td>-1.0</td>\n",
       "    </tr>\n",
       "    <tr>\n",
       "      <th>3</th>\n",
       "      <td>1677806285</td>\n",
       "      <td>exvaloper1qva0ejf0t943x6rt824gwmvtjgec9cjrut5wn8</td>\n",
       "      <td>1632621653000</td>\n",
       "      <td>33533018</td>\n",
       "      <td>350</td>\n",
       "      <td>5794082</td>\n",
       "      <td>-89286000</td>\n",
       "      <td>7000</td>\n",
       "      <td>1.0</td>\n",
       "    </tr>\n",
       "    <tr>\n",
       "      <th>4</th>\n",
       "      <td>789726704</td>\n",
       "      <td>exvaloper18au05qx485u2qcw2gvqsrfh29evq77lm9u2jwr</td>\n",
       "      <td>1632532367000</td>\n",
       "      <td>28169502</td>\n",
       "      <td>233</td>\n",
       "      <td>5774006</td>\n",
       "      <td>-151343000</td>\n",
       "      <td>5000</td>\n",
       "      <td>-1.0</td>\n",
       "    </tr>\n",
       "  </tbody>\n",
       "</table>\n",
       "</div>"
      ],
      "text/plain": [
       "    gas_limit                                     guessed_miner  \\\n",
       "0  2282861676  exvaloper1s6nfs7mlj7ewsskkrmekqhpq2w234fcz5uq4m5   \n",
       "1  1896990000  exvaloper19wln93k3faq7vkqzlc9gljr3ey5fljt93jfxsy   \n",
       "2  1896880239  exvaloper1ygcvtcqxl82xvzrq25dymam434k3nnc8kwvrkm   \n",
       "3  1677806285  exvaloper1qva0ejf0t943x6rt824gwmvtjgec9cjrut5wn8   \n",
       "4   789726704  exvaloper18au05qx485u2qcw2gvqsrfh29evq77lm9u2jwr   \n",
       "\n",
       "       blocktime  gas_used  txnum   height       区块耗时  elapsed-time  \\\n",
       "0  1632621639000  21158877    300  5794080  -89267000          9000   \n",
       "1  1632532372000  17304181    350  5774007   89264000          4000   \n",
       "2  1632621636000  11429291    200  5794079      17000          3000   \n",
       "3  1632621653000  33533018    350  5794082  -89286000          7000   \n",
       "4  1632532367000  28169502    233  5774006 -151343000          5000   \n",
       "\n",
       "   gas used \\n是否超过3千万\\n1为超过，-1不超过  \n",
       "0                            -1.0  \n",
       "1                            -1.0  \n",
       "2                            -1.0  \n",
       "3                             1.0  \n",
       "4                            -1.0  "
      ]
     },
     "execution_count": 4,
     "metadata": {},
     "output_type": "execute_result"
    }
   ],
   "source": [
    "data.head()"
   ]
  },
  {
   "cell_type": "code",
   "execution_count": 6,
   "metadata": {},
   "outputs": [],
   "source": [
    "data.set_index('height',inplace=True)"
   ]
  },
  {
   "cell_type": "code",
   "execution_count": 12,
   "metadata": {},
   "outputs": [],
   "source": [
    "data.sort_index(inplace=True)"
   ]
  },
  {
   "cell_type": "code",
   "execution_count": 18,
   "metadata": {},
   "outputs": [],
   "source": [
    "# split into training data && test data\n",
    "spilt_rate = 0.7\n",
    "split_index = round(len(data) * spilt_rate)\n",
    "training_data = data.iloc[:split_index]\n",
    "test_data = data.iloc[split_index:]"
   ]
  },
  {
   "cell_type": "code",
   "execution_count": 19,
   "metadata": {},
   "outputs": [],
   "source": [
    "# xlsx -> hdf5\n",
    "hdf5 = pd.HDFStore('data/block_data.h5','w')\n",
    "hdf5.open()\n",
    "hdf5['training_data']=training_data\n",
    "hdf5['test_data']=test_data\n",
    "hdf5.close()"
   ]
  }
 ],
 "metadata": {
  "kernelspec": {
   "display_name": "Python 3",
   "language": "python",
   "name": "python3"
  },
  "language_info": {
   "codemirror_mode": {
    "name": "ipython",
    "version": 3
   },
   "file_extension": ".py",
   "mimetype": "text/x-python",
   "name": "python",
   "nbconvert_exporter": "python",
   "pygments_lexer": "ipython3",
   "version": "3.7.6"
  }
 },
 "nbformat": 4,
 "nbformat_minor": 4
}
